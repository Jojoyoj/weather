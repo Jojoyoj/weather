{
 "cells": [
  {
   "cell_type": "markdown",
   "id": "d730ce62",
   "metadata": {},
   "source": [
    "# Air Quality Prediction Project"
   ]
  },
  {
   "cell_type": "markdown",
   "id": "5ec7aa3d",
   "metadata": {},
   "source": [
    "\n",
    "This notebook merges weather and air quality data, trains regression and classification models,\n",
    "compares their performance, and deploys the best model using Gradio.\n"
   ]
  },
  {
   "cell_type": "code",
   "execution_count": 2,
   "id": "0094550d",
   "metadata": {},
   "outputs": [
    {
     "name": "stderr",
     "output_type": "stream",
     "text": [
      "/home/codespace/.python/current/lib/python3.12/site-packages/tqdm/auto.py:21: TqdmWarning: IProgress not found. Please update jupyter and ipywidgets. See https://ipywidgets.readthedocs.io/en/stable/user_install.html\n",
      "  from .autonotebook import tqdm as notebook_tqdm\n"
     ]
    }
   ],
   "source": [
    "import pandas as pd\n",
    "import numpy as np\n",
    "from sklearn.model_selection import train_test_split\n",
    "from sklearn.linear_model import LinearRegression, LogisticRegression\n",
    "from sklearn.ensemble import RandomForestRegressor, RandomForestClassifier\n",
    "from sklearn.metrics import mean_squared_error, r2_score, classification_report\n",
    "import joblib\n",
    "import gradio as gr"
   ]
  },
  {
   "cell_type": "markdown",
   "id": "5500015e",
   "metadata": {},
   "source": [
    "## Load and merge datasets"
   ]
  },
  {
   "cell_type": "code",
   "execution_count": 3,
   "id": "0d17a68e",
   "metadata": {},
   "outputs": [],
   "source": [
    "# Load datasets\n",
    "df_weather = pd.read_csv(\"weather_data_prepared.csv\")\n",
    "df_air = pd.read_csv(\"air_quality_prepared.csv\")\n",
    "\n",
    "# Convert datetime\n",
    "df_weather[\"datetime\"] = pd.to_datetime(df_weather[\"datetime\"])\n",
    "df_air[\"datetime\"] = pd.to_datetime(df_air[\"datetime\"])\n",
    "\n",
    "# Merge on datetime\n",
    "df_combined = pd.merge(df_air, df_weather, on=\"datetime\", how=\"inner\")\n",
    "\n",
    "# Drop NA values\n",
    "df_combined = df_combined.dropna(subset=[\"pm10\", \"temperature\", \"humidity\", \"wind_speed\"])\n"
   ]
  },
  {
   "cell_type": "markdown",
   "id": "2f1683ea",
   "metadata": {},
   "source": [
    "## Feature Engineering"
   ]
  },
  {
   "cell_type": "code",
   "execution_count": 4,
   "id": "42065a7a",
   "metadata": {},
   "outputs": [],
   "source": [
    "def categorize_pm10(value):\n",
    "    if value < 20:\n",
    "        return \"Low\"\n",
    "    elif 20 <= value <= 40:\n",
    "        return \"Moderate\"\n",
    "    else:\n",
    "        return \"High\"\n",
    "\n",
    "df_combined[\"pm10_category\"] = df_combined[\"pm10\"].apply(categorize_pm10)\n",
    "X = df_combined[[\"temperature\", \"humidity\", \"wind_speed\"]]\n",
    "y_reg = df_combined[\"pm10\"]\n",
    "y_clf = df_combined[\"pm10_category\"]"
   ]
  },
  {
   "cell_type": "markdown",
   "id": "f60f6c0e",
   "metadata": {},
   "source": [
    "## Regression Modeling"
   ]
  },
  {
   "cell_type": "code",
   "execution_count": 5,
   "id": "533e3bbf",
   "metadata": {},
   "outputs": [
    {
     "name": "stdout",
     "output_type": "stream",
     "text": [
      "Linear Regression -> RMSE: 8.42, R^2: 0.19\n",
      "Random Forest Regressor -> RMSE: 8.67, R^2: 0.14\n"
     ]
    }
   ],
   "source": [
    "X_train, X_test, y_train, y_test = train_test_split(X, y_reg, test_size=0.2, random_state=42)\n",
    "\n",
    "# Linear Regression\n",
    "lr_model = LinearRegression()\n",
    "lr_model.fit(X_train, y_train)\n",
    "y_pred_lr = lr_model.predict(X_test)\n",
    "mse_lr = mean_squared_error(y_test, y_pred_lr)\n",
    "rmse_lr = np.sqrt(mse_lr)\n",
    "r2_lr = r2_score(y_test, y_pred_lr)\n",
    "\n",
    "# Random Forest Regressor\n",
    "rf_model = RandomForestRegressor(random_state=42)\n",
    "rf_model.fit(X_train, y_train)\n",
    "y_pred_rf = rf_model.predict(X_test)\n",
    "rmse_rf = mean_squared_error(y_test, y_pred_rf) ** 0.5  # same as np.sqrt\n",
    "r2_rf = r2_score(y_test, y_pred_rf)\n",
    "\n",
    "# Output\n",
    "print(f\"Linear Regression -> RMSE: {rmse_lr:.2f}, R^2: {r2_lr:.2f}\")\n",
    "print(f\"Random Forest Regressor -> RMSE: {rmse_rf:.2f}, R^2: {r2_rf:.2f}\")\n"
   ]
  },
  {
   "cell_type": "markdown",
   "id": "ebc8a7d7",
   "metadata": {},
   "source": [
    "## Classification Modeling"
   ]
  },
  {
   "cell_type": "code",
   "execution_count": 6,
   "id": "92533170",
   "metadata": {},
   "outputs": [
    {
     "name": "stdout",
     "output_type": "stream",
     "text": [
      "Logistic Regression Results:\n",
      "              precision    recall  f1-score   support\n",
      "\n",
      "        High       0.00      0.00      0.00       427\n",
      "         Low       0.77      0.98      0.86     15662\n",
      "    Moderate       0.56      0.12      0.20      4950\n",
      "\n",
      "    accuracy                           0.76     21039\n",
      "   macro avg       0.44      0.37      0.35     21039\n",
      "weighted avg       0.70      0.76      0.69     21039\n",
      "\n"
     ]
    },
    {
     "name": "stderr",
     "output_type": "stream",
     "text": [
      "/home/codespace/.local/lib/python3.12/site-packages/sklearn/metrics/_classification.py:1565: UndefinedMetricWarning: Precision is ill-defined and being set to 0.0 in labels with no predicted samples. Use `zero_division` parameter to control this behavior.\n",
      "  _warn_prf(average, modifier, f\"{metric.capitalize()} is\", len(result))\n",
      "/home/codespace/.local/lib/python3.12/site-packages/sklearn/metrics/_classification.py:1565: UndefinedMetricWarning: Precision is ill-defined and being set to 0.0 in labels with no predicted samples. Use `zero_division` parameter to control this behavior.\n",
      "  _warn_prf(average, modifier, f\"{metric.capitalize()} is\", len(result))\n",
      "/home/codespace/.local/lib/python3.12/site-packages/sklearn/metrics/_classification.py:1565: UndefinedMetricWarning: Precision is ill-defined and being set to 0.0 in labels with no predicted samples. Use `zero_division` parameter to control this behavior.\n",
      "  _warn_prf(average, modifier, f\"{metric.capitalize()} is\", len(result))\n"
     ]
    },
    {
     "name": "stdout",
     "output_type": "stream",
     "text": [
      "Random Forest Classifier Results:\n",
      "              precision    recall  f1-score   support\n",
      "\n",
      "        High       0.19      0.06      0.09       427\n",
      "         Low       0.79      0.88      0.83     15662\n",
      "    Moderate       0.43      0.29      0.35      4950\n",
      "\n",
      "    accuracy                           0.73     21039\n",
      "   macro avg       0.47      0.41      0.42     21039\n",
      "weighted avg       0.69      0.73      0.70     21039\n",
      "\n"
     ]
    }
   ],
   "source": [
    "X_train_c, X_test_c, y_train_c, y_test_c = train_test_split(X, y_clf, test_size=0.2, random_state=42)\n",
    "\n",
    "log_clf = LogisticRegression(max_iter=1000, random_state=42)\n",
    "log_clf.fit(X_train_c, y_train_c)\n",
    "y_pred_log = log_clf.predict(X_test_c)\n",
    "print(\"Logistic Regression Results:\")\n",
    "print(classification_report(y_test_c, y_pred_log))\n",
    "\n",
    "rf_clf = RandomForestClassifier(random_state=42)\n",
    "rf_clf.fit(X_train_c, y_train_c)\n",
    "y_pred_rf_clf = rf_clf.predict(X_test_c)\n",
    "print(\"Random Forest Classifier Results:\")\n",
    "print(classification_report(y_test_c, y_pred_rf_clf))"
   ]
  },
  {
   "cell_type": "markdown",
   "id": "d2c1dc6e",
   "metadata": {},
   "source": [
    "## Save Final Model"
   ]
  },
  {
   "cell_type": "code",
   "execution_count": 7,
   "id": "bb0df825",
   "metadata": {},
   "outputs": [
    {
     "data": {
      "text/plain": [
       "['final_rf_model.joblib']"
      ]
     },
     "execution_count": 7,
     "metadata": {},
     "output_type": "execute_result"
    }
   ],
   "source": [
    "final_model = RandomForestRegressor(n_estimators=100, random_state=42)\n",
    "final_model.fit(X, y_reg)\n",
    "joblib.dump(final_model, \"final_rf_model.joblib\")"
   ]
  },
  {
   "cell_type": "markdown",
   "id": "56d57632",
   "metadata": {},
   "source": [
    "## Gradio App"
   ]
  },
  {
   "cell_type": "code",
   "execution_count": null,
   "id": "5ba1e832",
   "metadata": {},
   "outputs": [],
   "source": [
    "model = joblib.load(\"final_rf_model.joblib\")\n",
    "\n",
    "def predict_pm10(temp, humidity, wind_speed):\n",
    "    return float(model.predict([[temp, humidity, wind_speed]])[0])\n",
    "\n",
    "demo = gr.Interface(\n",
    "    fn=predict_pm10,\n",
    "    inputs=[\n",
    "        gr.Slider(-10, 40, value=20, label=\"Temperature (°C)\"),\n",
    "        gr.Slider(0, 100, value=50, label=\"Humidity (%)\"),\n",
    "        gr.Slider(0, 100, value=10, label=\"Wind Speed (km/h)\")\n",
    "    ],\n",
    "    outputs=gr.Number(label=\"Predicted PM10 (µg/m³)\"),\n",
    "    title=\"PM10 Air Quality Predictor\",\n",
    "    description=\"Enter weather data to predict PM10 pollution level.\"\n",
    ")\n",
    "\n",
    "# Uncomment to run locally\n",
    "demo.launch()"
   ]
  }
 ],
 "metadata": {
  "kernelspec": {
   "display_name": "Python 3",
   "language": "python",
   "name": "python3"
  },
  "language_info": {
   "codemirror_mode": {
    "name": "ipython",
    "version": 3
   },
   "file_extension": ".py",
   "mimetype": "text/x-python",
   "name": "python",
   "nbconvert_exporter": "python",
   "pygments_lexer": "ipython3",
   "version": "3.12.1"
  }
 },
 "nbformat": 4,
 "nbformat_minor": 5
}
